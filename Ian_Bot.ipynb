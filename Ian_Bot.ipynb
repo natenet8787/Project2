{
  "nbformat": 4,
  "nbformat_minor": 5,
  "metadata": {
    "kernelspec": {
      "display_name": "Python (dev)",
      "language": "python",
      "name": "dev"
    },
    "language_info": {
      "codemirror_mode": {
        "name": "ipython",
        "version": 3
      },
      "file_extension": ".py",
      "mimetype": "text/x-python",
      "name": "python",
      "nbconvert_exporter": "python",
      "pygments_lexer": "ipython3",
      "version": "3.7.10"
    },
    "colab": {
      "name": "Ian_Bot.ipynb",
      "provenance": [],
      "collapsed_sections": []
    }
  },
  "cells": [
    {
      "cell_type": "code",
      "metadata": {
        "colab": {
          "base_uri": "https://localhost:8080/"
        },
        "id": "682ff6da",
        "outputId": "e2db78b4-b987-4bee-e679-05038501d032"
      },
      "source": [
        "import nltk\n",
        "nltk.download('punkt')\n",
        "nltk.download('wordnet')\n",
        "from nltk.stem import WordNetLemmatizer"
      ],
      "id": "682ff6da",
      "execution_count": 1,
      "outputs": [
        {
          "output_type": "stream",
          "name": "stdout",
          "text": [
            "[nltk_data] Downloading package punkt to /root/nltk_data...\n",
            "[nltk_data]   Unzipping tokenizers/punkt.zip.\n",
            "[nltk_data] Downloading package wordnet to /root/nltk_data...\n",
            "[nltk_data]   Unzipping corpora/wordnet.zip.\n"
          ]
        }
      ]
    },
    {
      "cell_type": "code",
      "metadata": {
        "id": "ce69c01f"
      },
      "source": [
        "import json\n",
        "import tensorflow\n",
        "import numpy"
      ],
      "id": "ce69c01f",
      "execution_count": 2,
      "outputs": []
    },
    {
      "cell_type": "code",
      "metadata": {
        "id": "5bf705a3"
      },
      "source": [
        "lemma = WordNetLemmatizer()\n",
        "words = []\n",
        "tags = []\n",
        "tagged_words = []"
      ],
      "id": "5bf705a3",
      "execution_count": 3,
      "outputs": []
    },
    {
      "cell_type": "code",
      "metadata": {
        "colab": {
          "resources": {
            "http://localhost:8080/nbextensions/google.colab/files.js": {
              "data": "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",
              "ok": true,
              "headers": [
                [
                  "content-type",
                  "application/javascript"
                ]
              ],
              "status": 200,
              "status_text": ""
            }
          },
          "base_uri": "https://localhost:8080/",
          "height": 72
        },
        "id": "-3x4AzrOybIN",
        "outputId": "cdd86cc7-1d9f-4ae7-fc67-79932f53cd6f"
      },
      "source": [
        "from google.colab import files\n",
        "uploaded = files.upload()"
      ],
      "id": "-3x4AzrOybIN",
      "execution_count": 4,
      "outputs": [
        {
          "output_type": "display_data",
          "data": {
            "text/html": [
              "\n",
              "     <input type=\"file\" id=\"files-e799907e-b665-40c1-a165-fc69afdf8003\" name=\"files[]\" multiple disabled\n",
              "        style=\"border:none\" />\n",
              "     <output id=\"result-e799907e-b665-40c1-a165-fc69afdf8003\">\n",
              "      Upload widget is only available when the cell has been executed in the\n",
              "      current browser session. Please rerun this cell to enable.\n",
              "      </output>\n",
              "      <script src=\"/nbextensions/google.colab/files.js\"></script> "
            ],
            "text/plain": [
              "<IPython.core.display.HTML object>"
            ]
          },
          "metadata": {}
        },
        {
          "output_type": "stream",
          "name": "stdout",
          "text": [
            "Saving Intents.txt to Intents.txt\n"
          ]
        }
      ]
    },
    {
      "cell_type": "code",
      "metadata": {
        "colab": {
          "base_uri": "https://localhost:8080/"
        },
        "id": "16a864e3",
        "outputId": "386655d8-6b82-42ef-f668-57ff34ced526"
      },
      "source": [
        "intents = json.loads(open(\"Intents.txt\").read())\n",
        "print(intents)"
      ],
      "id": "16a864e3",
      "execution_count": 5,
      "outputs": [
        {
          "output_type": "stream",
          "name": "stdout",
          "text": [
            "{'intents': [{'tag': 'greeting', 'patterns': ['Hi there', 'How are you', 'Is anyone there?', 'Hey', 'Hola', 'Hello', 'Good day'], 'responses': ['Hello, thanks for asking', 'Good to see you again', 'Hi there, how can I help?'], 'context': ['']}, {'tag': 'goodbye', 'patterns': ['Bye', 'See you later', 'Goodbye', 'Nice chatting to you, bye', 'Till next time'], 'responses': ['See you!', 'Have a nice day', 'Bye! Come back again soon.'], 'context': ['']}, {'tag': 'thanks', 'patterns': ['Thanks', 'Thank you', \"That's helpful\", 'Awesome, thanks', 'Thanks for helping me'], 'responses': ['Happy to help!', 'Any time!', 'My pleasure'], 'context': ['']}, {'tag': 'noanswer', 'patterns': [], 'responses': [\"Sorry, can't understand you\", 'Please give me more info', 'Not sure I understand'], 'context': ['']}, {'tag': 'name', 'patterns': ['what is your name?', 'Whats your name?', 'What should I call you'], 'responses': ['My name is Ian! What is your name?', 'This is Ian! Who am I chatting with?', \"You can call me Ian. What's your name?\"], 'context_set': ''}, {'tag': 'investment', 'patterns': ['Start investing', 'Open an investment portfolio', 'Create an investment portfolio', 'Investment options'], 'responses': ['It sounds like you need investment advice. Before we proceed I need to gather some personal information'], 'context_set': ''}]}\n"
          ]
        }
      ]
    },
    {
      "cell_type": "code",
      "metadata": {
        "id": "5cd6b5fb"
      },
      "source": [
        "for i in intents[\"intents\"]:\n",
        "    for p in i[\"patterns\"]:\n",
        "        # get part of speech info, etc\n",
        "        word = nltk.word_tokenize(p)\n",
        "        # add all of the info to a list of all words\n",
        "        # use the list of all words to train the bot\n",
        "        words.extend(word)\n",
        "        # stores tags we've assigned (like hello, goodbye, investment) along with the words\n",
        "        tagged_words.append((word, i[\"tag\"])) # added as tuple since there are two values (a,b)\n",
        "        # keeping track of individual tags in list\n",
        "        if i[\"tag\"] not in tags:\n",
        "            t = i[\"tag\"]\n",
        "            tags.append(t)"
      ],
      "id": "5cd6b5fb",
      "execution_count": 6,
      "outputs": []
    },
    {
      "cell_type": "code",
      "metadata": {
        "colab": {
          "base_uri": "https://localhost:8080/"
        },
        "id": "5841214e",
        "outputId": "fd9887e0-e3ca-40e1-f8c0-f6e529d3548d"
      },
      "source": [
        "# we now want to use NLTK lemmatizer\n",
        "# goes through every word and lemmatizes the lower case version\n",
        "new_words = [ lemma.lemmatize(word.lower()) for word in words ] \n",
        "\n",
        "# display the distinct words in Ian_Bot vocabulary\n",
        "print(list(set(new_words))) "
      ],
      "id": "5841214e",
      "execution_count": 9,
      "outputs": [
        {
          "output_type": "stream",
          "name": "stdout",
          "text": [
            "['call', '?', 'hello', 'investing', 'chatting', 'open', 'there', 'thank', 'for', 'nice', 'bye', 'what', 'helpful', \"'s\", 'anyone', 'see', 'are', 'should', 'option', ',', 'time', 'next', 'hey', 'hi', 'your', 'that', 'to', 'thanks', 'name', 'i', 'you', 'later', 'awesome', 'portfolio', 'good', 'investment', 'create', 'day', 'goodbye', 'helping', 'whats', 'an', 'start', 'hola', 'me', 'is', 'how', 'till']\n"
          ]
        }
      ]
    },
    {
      "cell_type": "code",
      "metadata": {
        "id": "68b62142"
      },
      "source": [
        "#training Ian_Bot where 0 represents a word is not in list, and 1 represents a recognized word. Sames values apply for pattern and tags\n",
        "\n",
        "train = []"
      ],
      "id": "68b62142",
      "execution_count": 10,
      "outputs": []
    },
    {
      "cell_type": "code",
      "metadata": {
        "id": "1Q68cTpd0Xr3"
      },
      "source": [
        "for t in tagged_words:\n",
        "    patterns = [lemma.lemmatize(w.lower()) for w in t [0]]\n",
        "    data = []\n",
        "    for w in words:\n",
        "      if w in patterns:\n",
        "        data.append(1)\n",
        "      else:\n",
        "        data.append(0)\n",
        "    tag_list = []\n",
        "    for tag in tags:\n",
        "      if tag == t [1]:\n",
        "        tag_list.append(1)\n",
        "      else:\n",
        "        tag_list.append(0)\n",
        "    train.append([data, tag_list])"
      ],
      "id": "1Q68cTpd0Xr3",
      "execution_count": 11,
      "outputs": []
    },
    {
      "cell_type": "code",
      "metadata": {
        "colab": {
          "base_uri": "https://localhost:8080/"
        },
        "id": "kAR44FG11ZeF",
        "outputId": "47f12a1f-ab6b-4b7c-825b-f27292a9b82c"
      },
      "source": [
        "print(train)"
      ],
      "id": "kAR44FG11ZeF",
      "execution_count": 12,
      "outputs": [
        {
          "output_type": "stream",
          "name": "stdout",
          "text": [
            "[[[0, 1, 0, 0, 0, 0, 0, 1, 0, 0, 0, 0, 0, 0, 0, 0, 0, 0, 0, 0, 0, 0, 0, 0, 0, 0, 0, 0, 0, 0, 0, 0, 0, 0, 0, 0, 0, 0, 0, 0, 0, 0, 0, 0, 0, 0, 0, 0, 0, 0, 0, 0, 0, 0, 0, 0, 0, 0, 0, 0, 0, 0, 0, 0, 0, 0, 0], [1, 0, 0, 0, 0]], [[0, 0, 0, 1, 1, 0, 0, 0, 0, 0, 0, 0, 0, 0, 0, 0, 1, 0, 0, 0, 0, 0, 1, 0, 0, 0, 0, 0, 0, 0, 1, 0, 0, 0, 0, 0, 0, 0, 0, 0, 0, 0, 0, 0, 0, 0, 0, 0, 0, 0, 0, 0, 0, 0, 1, 0, 0, 0, 0, 0, 0, 0, 0, 0, 0, 0, 0], [1, 0, 0, 0, 0]], [[0, 1, 0, 0, 0, 0, 1, 1, 1, 0, 0, 0, 0, 0, 0, 0, 0, 0, 0, 0, 0, 0, 0, 0, 0, 0, 0, 0, 0, 0, 0, 0, 0, 0, 0, 0, 0, 0, 0, 0, 0, 0, 1, 0, 0, 1, 0, 0, 0, 1, 0, 0, 0, 0, 0, 0, 0, 0, 0, 0, 0, 0, 0, 0, 0, 0, 0], [1, 0, 0, 0, 0]], [[0, 0, 0, 0, 0, 0, 0, 0, 0, 0, 0, 0, 0, 0, 0, 0, 0, 0, 0, 0, 0, 0, 0, 0, 0, 0, 0, 0, 0, 0, 0, 0, 0, 0, 0, 0, 0, 0, 0, 0, 0, 0, 0, 0, 0, 0, 0, 0, 0, 0, 0, 0, 0, 0, 0, 0, 0, 0, 0, 0, 0, 0, 0, 0, 0, 0, 0], [1, 0, 0, 0, 0]], [[0, 0, 0, 0, 0, 0, 0, 0, 0, 0, 0, 0, 0, 0, 0, 0, 0, 0, 0, 0, 0, 0, 0, 0, 0, 0, 0, 0, 0, 0, 0, 0, 0, 0, 0, 0, 0, 0, 0, 0, 0, 0, 0, 0, 0, 0, 0, 0, 0, 0, 0, 0, 0, 0, 0, 0, 0, 0, 0, 0, 0, 0, 0, 0, 0, 0, 0], [1, 0, 0, 0, 0]], [[0, 0, 0, 0, 0, 0, 0, 0, 0, 0, 0, 0, 0, 0, 0, 0, 0, 0, 0, 0, 0, 0, 0, 0, 0, 0, 0, 0, 0, 0, 0, 0, 0, 0, 0, 0, 0, 0, 0, 0, 0, 0, 0, 0, 0, 0, 0, 0, 0, 0, 0, 0, 0, 0, 0, 0, 0, 0, 0, 0, 0, 0, 0, 0, 0, 0, 0], [1, 0, 0, 0, 0]], [[0, 0, 0, 0, 0, 0, 0, 0, 0, 0, 0, 0, 0, 1, 0, 0, 0, 0, 0, 0, 0, 0, 0, 0, 0, 0, 0, 0, 0, 0, 0, 0, 0, 0, 0, 0, 0, 0, 0, 0, 0, 0, 0, 0, 0, 0, 0, 0, 0, 0, 0, 0, 0, 0, 0, 0, 0, 0, 0, 0, 0, 0, 0, 0, 0, 0, 0], [1, 0, 0, 0, 0]], [[0, 0, 0, 0, 0, 0, 0, 0, 0, 0, 0, 0, 0, 0, 0, 0, 0, 0, 0, 0, 0, 0, 0, 0, 1, 0, 0, 0, 0, 0, 0, 0, 0, 0, 0, 0, 0, 0, 0, 0, 0, 0, 0, 0, 0, 0, 0, 0, 0, 0, 0, 0, 0, 0, 0, 0, 0, 0, 0, 0, 0, 0, 0, 0, 0, 0, 0], [0, 1, 0, 0, 0]], [[0, 0, 0, 0, 1, 0, 0, 0, 0, 0, 0, 0, 0, 0, 0, 0, 1, 1, 0, 0, 0, 0, 1, 0, 0, 0, 0, 0, 0, 0, 1, 0, 0, 0, 0, 0, 0, 0, 0, 0, 0, 0, 0, 0, 0, 0, 0, 0, 0, 0, 0, 0, 0, 0, 1, 0, 0, 0, 0, 0, 0, 0, 0, 0, 0, 0, 0], [0, 1, 0, 0, 0]], [[0, 0, 0, 0, 0, 0, 0, 0, 0, 0, 0, 0, 0, 0, 0, 0, 0, 0, 0, 0, 0, 0, 0, 0, 0, 0, 0, 0, 0, 0, 0, 0, 0, 0, 0, 0, 0, 0, 0, 0, 0, 0, 0, 0, 0, 0, 0, 0, 0, 0, 0, 0, 0, 0, 0, 0, 0, 0, 0, 0, 0, 0, 0, 0, 0, 0, 0], [0, 1, 0, 0, 0]], [[0, 0, 0, 0, 1, 0, 0, 0, 0, 0, 0, 0, 0, 0, 0, 0, 1, 0, 0, 0, 1, 1, 1, 1, 1, 0, 0, 0, 0, 0, 1, 0, 0, 0, 0, 1, 0, 0, 0, 0, 0, 0, 0, 0, 0, 0, 0, 0, 0, 0, 0, 0, 0, 0, 1, 0, 0, 0, 0, 0, 0, 0, 0, 0, 0, 0, 0], [0, 1, 0, 0, 0]], [[0, 0, 0, 0, 0, 0, 0, 0, 0, 0, 0, 0, 0, 0, 0, 0, 0, 0, 0, 0, 0, 0, 0, 0, 0, 0, 1, 1, 0, 0, 0, 0, 0, 0, 0, 0, 0, 0, 0, 0, 0, 0, 0, 0, 0, 0, 0, 0, 0, 0, 0, 0, 0, 0, 0, 0, 0, 0, 0, 0, 0, 0, 0, 0, 0, 0, 0], [0, 1, 0, 0, 0]], [[0, 0, 0, 0, 0, 0, 0, 0, 0, 0, 0, 0, 0, 0, 0, 0, 0, 0, 0, 0, 0, 0, 0, 0, 0, 0, 0, 0, 0, 0, 0, 0, 0, 0, 0, 0, 1, 0, 0, 0, 0, 0, 0, 0, 0, 0, 0, 0, 0, 0, 0, 0, 0, 0, 0, 0, 0, 0, 0, 0, 0, 0, 0, 0, 0, 0, 0], [0, 0, 1, 0, 0]], [[0, 0, 0, 0, 1, 0, 0, 0, 0, 0, 0, 0, 0, 0, 0, 0, 1, 0, 0, 0, 0, 0, 1, 0, 0, 0, 0, 0, 0, 0, 1, 0, 0, 0, 0, 0, 0, 0, 0, 0, 0, 0, 0, 0, 0, 0, 0, 0, 0, 0, 0, 0, 0, 0, 1, 0, 0, 0, 0, 0, 0, 0, 0, 0, 0, 0, 0], [0, 0, 1, 0, 0]], [[0, 0, 0, 0, 0, 0, 0, 0, 0, 0, 0, 0, 0, 0, 0, 0, 0, 0, 0, 0, 0, 0, 0, 0, 0, 0, 0, 0, 0, 0, 0, 0, 1, 1, 0, 0, 0, 0, 0, 0, 0, 0, 0, 0, 0, 0, 0, 0, 0, 0, 0, 0, 0, 0, 0, 0, 0, 0, 0, 0, 0, 0, 0, 0, 0, 0, 0], [0, 0, 1, 0, 0]], [[0, 0, 0, 0, 0, 0, 0, 0, 0, 0, 0, 0, 0, 0, 0, 0, 0, 0, 0, 0, 0, 0, 0, 1, 0, 0, 0, 0, 0, 0, 0, 0, 0, 0, 0, 1, 1, 0, 0, 0, 0, 0, 0, 0, 0, 0, 0, 0, 0, 0, 0, 0, 0, 0, 0, 0, 0, 0, 0, 0, 0, 0, 0, 0, 0, 0, 0], [0, 0, 1, 0, 0]], [[0, 0, 0, 0, 0, 0, 0, 0, 0, 0, 0, 0, 0, 0, 0, 0, 0, 0, 0, 0, 0, 0, 0, 0, 0, 0, 0, 0, 0, 0, 0, 0, 0, 0, 0, 0, 1, 0, 1, 1, 1, 0, 0, 0, 0, 0, 0, 0, 0, 0, 0, 0, 0, 0, 0, 0, 0, 0, 0, 0, 0, 0, 0, 0, 0, 0, 0], [0, 0, 1, 0, 0]], [[0, 0, 0, 0, 0, 0, 0, 0, 1, 0, 0, 0, 0, 0, 0, 0, 0, 0, 0, 0, 0, 0, 0, 0, 0, 0, 0, 0, 0, 0, 0, 0, 0, 0, 0, 0, 0, 0, 0, 0, 0, 1, 1, 1, 1, 1, 0, 1, 1, 1, 0, 0, 0, 0, 0, 0, 0, 0, 0, 0, 0, 0, 0, 0, 0, 0, 0], [0, 0, 0, 1, 0]], [[0, 0, 0, 0, 0, 0, 0, 0, 1, 0, 0, 0, 0, 0, 0, 0, 0, 0, 0, 0, 0, 0, 0, 0, 0, 0, 0, 0, 0, 0, 0, 0, 0, 0, 0, 0, 0, 0, 0, 0, 0, 0, 0, 1, 1, 1, 0, 1, 1, 1, 0, 0, 0, 0, 0, 0, 0, 0, 0, 0, 0, 0, 0, 0, 0, 0, 0], [0, 0, 0, 1, 0]], [[0, 0, 0, 0, 1, 0, 0, 0, 0, 0, 0, 0, 0, 0, 0, 0, 1, 0, 0, 0, 0, 0, 1, 0, 0, 0, 0, 0, 0, 0, 1, 0, 0, 0, 0, 0, 0, 0, 0, 0, 0, 1, 0, 0, 0, 0, 0, 0, 0, 0, 0, 1, 0, 1, 1, 0, 0, 0, 0, 0, 0, 0, 0, 0, 0, 0, 0], [0, 0, 0, 1, 0]], [[0, 0, 0, 0, 0, 0, 0, 0, 0, 0, 0, 0, 0, 0, 0, 0, 0, 0, 0, 0, 0, 0, 0, 0, 0, 0, 0, 0, 0, 0, 0, 0, 0, 0, 0, 0, 0, 0, 0, 0, 0, 0, 0, 0, 0, 0, 0, 0, 0, 0, 0, 0, 0, 0, 0, 0, 1, 0, 0, 0, 0, 0, 0, 0, 0, 0, 0], [0, 0, 0, 0, 1]], [[0, 0, 0, 0, 0, 0, 0, 0, 0, 0, 0, 0, 0, 0, 0, 0, 0, 0, 0, 0, 0, 0, 0, 0, 0, 0, 0, 0, 0, 0, 0, 0, 0, 0, 0, 0, 0, 0, 0, 0, 0, 0, 0, 0, 0, 0, 0, 0, 0, 0, 0, 0, 0, 0, 0, 0, 0, 0, 1, 1, 1, 0, 1, 1, 1, 0, 0], [0, 0, 0, 0, 1]], [[0, 0, 0, 0, 0, 0, 0, 0, 0, 0, 0, 0, 0, 0, 0, 0, 0, 0, 0, 0, 0, 0, 0, 0, 0, 0, 0, 0, 0, 0, 0, 0, 0, 0, 0, 0, 0, 0, 0, 0, 0, 0, 0, 0, 0, 0, 0, 0, 0, 0, 0, 0, 0, 0, 0, 0, 0, 0, 1, 1, 1, 0, 1, 1, 1, 0, 0], [0, 0, 0, 0, 1]], [[0, 0, 0, 0, 0, 0, 0, 0, 0, 0, 0, 0, 0, 0, 0, 0, 0, 0, 0, 0, 0, 0, 0, 0, 0, 0, 0, 0, 0, 0, 0, 0, 0, 0, 0, 0, 0, 0, 0, 0, 0, 0, 0, 0, 0, 0, 0, 0, 0, 0, 0, 0, 0, 0, 0, 0, 0, 0, 0, 1, 0, 0, 0, 1, 0, 0, 0], [0, 0, 0, 0, 1]]]\n"
          ]
        }
      ]
    },
    {
      "cell_type": "code",
      "metadata": {
        "id": "1CsPLXtS4zp0"
      },
      "source": [
        "import random"
      ],
      "id": "1CsPLXtS4zp0",
      "execution_count": 13,
      "outputs": []
    },
    {
      "cell_type": "code",
      "metadata": {
        "id": "9WsRi8eG5uBL"
      },
      "source": [
        "random.shuffle(train)"
      ],
      "id": "9WsRi8eG5uBL",
      "execution_count": 14,
      "outputs": []
    },
    {
      "cell_type": "code",
      "metadata": {
        "colab": {
          "base_uri": "https://localhost:8080/"
        },
        "id": "-IOMwfzG4z2h",
        "outputId": "0bff3142-e13e-470b-fc43-c1b45d74c385"
      },
      "source": [
        "#train = numpy.array(train)\n",
        "train_words = []\n",
        "train_tags = []\n",
        "\n",
        "for t in train:\n",
        "  train_words.append(t[0])\n",
        "  train_tags.append(t[1])\n",
        "\n",
        "print(train_words)\n",
        "print(train_tags)"
      ],
      "id": "-IOMwfzG4z2h",
      "execution_count": 15,
      "outputs": [
        {
          "output_type": "stream",
          "name": "stdout",
          "text": [
            "[[0, 0, 0, 0, 0, 0, 0, 0, 0, 0, 0, 0, 0, 0, 0, 0, 0, 0, 0, 0, 0, 0, 0, 0, 0, 0, 0, 0, 0, 0, 0, 0, 0, 0, 0, 0, 0, 0, 0, 0, 0, 0, 0, 0, 0, 0, 0, 0, 0, 0, 0, 0, 0, 0, 0, 0, 0, 0, 0, 1, 0, 0, 0, 1, 0, 0, 0], [0, 0, 0, 0, 0, 0, 0, 0, 0, 0, 0, 0, 0, 0, 0, 0, 0, 0, 0, 0, 0, 0, 0, 0, 0, 0, 0, 0, 0, 0, 0, 0, 0, 0, 0, 0, 0, 0, 0, 0, 0, 0, 0, 0, 0, 0, 0, 0, 0, 0, 0, 0, 0, 0, 0, 0, 0, 0, 0, 0, 0, 0, 0, 0, 0, 0, 0], [0, 0, 0, 0, 0, 0, 0, 0, 0, 0, 0, 0, 0, 0, 0, 0, 0, 0, 0, 0, 0, 0, 0, 1, 0, 0, 0, 0, 0, 0, 0, 0, 0, 0, 0, 1, 1, 0, 0, 0, 0, 0, 0, 0, 0, 0, 0, 0, 0, 0, 0, 0, 0, 0, 0, 0, 0, 0, 0, 0, 0, 0, 0, 0, 0, 0, 0], [0, 0, 0, 0, 0, 0, 0, 0, 1, 0, 0, 0, 0, 0, 0, 0, 0, 0, 0, 0, 0, 0, 0, 0, 0, 0, 0, 0, 0, 0, 0, 0, 0, 0, 0, 0, 0, 0, 0, 0, 0, 1, 1, 1, 1, 1, 0, 1, 1, 1, 0, 0, 0, 0, 0, 0, 0, 0, 0, 0, 0, 0, 0, 0, 0, 0, 0], [0, 0, 0, 0, 1, 0, 0, 0, 0, 0, 0, 0, 0, 0, 0, 0, 1, 1, 0, 0, 0, 0, 1, 0, 0, 0, 0, 0, 0, 0, 1, 0, 0, 0, 0, 0, 0, 0, 0, 0, 0, 0, 0, 0, 0, 0, 0, 0, 0, 0, 0, 0, 0, 0, 1, 0, 0, 0, 0, 0, 0, 0, 0, 0, 0, 0, 0], [0, 0, 0, 1, 1, 0, 0, 0, 0, 0, 0, 0, 0, 0, 0, 0, 1, 0, 0, 0, 0, 0, 1, 0, 0, 0, 0, 0, 0, 0, 1, 0, 0, 0, 0, 0, 0, 0, 0, 0, 0, 0, 0, 0, 0, 0, 0, 0, 0, 0, 0, 0, 0, 0, 1, 0, 0, 0, 0, 0, 0, 0, 0, 0, 0, 0, 0], [0, 0, 0, 0, 0, 0, 0, 0, 0, 0, 0, 0, 0, 0, 0, 0, 0, 0, 0, 0, 0, 0, 0, 0, 0, 0, 0, 0, 0, 0, 0, 0, 1, 1, 0, 0, 0, 0, 0, 0, 0, 0, 0, 0, 0, 0, 0, 0, 0, 0, 0, 0, 0, 0, 0, 0, 0, 0, 0, 0, 0, 0, 0, 0, 0, 0, 0], [0, 0, 0, 0, 1, 0, 0, 0, 0, 0, 0, 0, 0, 0, 0, 0, 1, 0, 0, 0, 1, 1, 1, 1, 1, 0, 0, 0, 0, 0, 1, 0, 0, 0, 0, 1, 0, 0, 0, 0, 0, 0, 0, 0, 0, 0, 0, 0, 0, 0, 0, 0, 0, 0, 1, 0, 0, 0, 0, 0, 0, 0, 0, 0, 0, 0, 0], [0, 0, 0, 0, 0, 0, 0, 0, 0, 0, 0, 0, 0, 0, 0, 0, 0, 0, 0, 0, 0, 0, 0, 0, 0, 0, 0, 0, 0, 0, 0, 0, 0, 0, 0, 0, 0, 0, 0, 0, 0, 0, 0, 0, 0, 0, 0, 0, 0, 0, 0, 0, 0, 0, 0, 0, 0, 0, 1, 1, 1, 0, 1, 1, 1, 0, 0], [0, 0, 0, 0, 0, 0, 0, 0, 0, 0, 0, 0, 0, 0, 0, 0, 0, 0, 0, 0, 0, 0, 0, 0, 0, 0, 1, 1, 0, 0, 0, 0, 0, 0, 0, 0, 0, 0, 0, 0, 0, 0, 0, 0, 0, 0, 0, 0, 0, 0, 0, 0, 0, 0, 0, 0, 0, 0, 0, 0, 0, 0, 0, 0, 0, 0, 0], [0, 0, 0, 0, 0, 0, 0, 0, 0, 0, 0, 0, 0, 0, 0, 0, 0, 0, 0, 0, 0, 0, 0, 0, 0, 0, 0, 0, 0, 0, 0, 0, 0, 0, 0, 0, 1, 0, 1, 1, 1, 0, 0, 0, 0, 0, 0, 0, 0, 0, 0, 0, 0, 0, 0, 0, 0, 0, 0, 0, 0, 0, 0, 0, 0, 0, 0], [0, 0, 0, 0, 0, 0, 0, 0, 1, 0, 0, 0, 0, 0, 0, 0, 0, 0, 0, 0, 0, 0, 0, 0, 0, 0, 0, 0, 0, 0, 0, 0, 0, 0, 0, 0, 0, 0, 0, 0, 0, 0, 0, 1, 1, 1, 0, 1, 1, 1, 0, 0, 0, 0, 0, 0, 0, 0, 0, 0, 0, 0, 0, 0, 0, 0, 0], [0, 0, 0, 0, 0, 0, 0, 0, 0, 0, 0, 0, 0, 0, 0, 0, 0, 0, 0, 0, 0, 0, 0, 0, 0, 0, 0, 0, 0, 0, 0, 0, 0, 0, 0, 0, 0, 0, 0, 0, 0, 0, 0, 0, 0, 0, 0, 0, 0, 0, 0, 0, 0, 0, 0, 0, 0, 0, 0, 0, 0, 0, 0, 0, 0, 0, 0], [0, 0, 0, 0, 0, 0, 0, 0, 0, 0, 0, 0, 0, 0, 0, 0, 0, 0, 0, 0, 0, 0, 0, 0, 0, 0, 0, 0, 0, 0, 0, 0, 0, 0, 0, 0, 0, 0, 0, 0, 0, 0, 0, 0, 0, 0, 0, 0, 0, 0, 0, 0, 0, 0, 0, 0, 1, 0, 0, 0, 0, 0, 0, 0, 0, 0, 0], [0, 0, 0, 0, 0, 0, 0, 0, 0, 0, 0, 0, 0, 1, 0, 0, 0, 0, 0, 0, 0, 0, 0, 0, 0, 0, 0, 0, 0, 0, 0, 0, 0, 0, 0, 0, 0, 0, 0, 0, 0, 0, 0, 0, 0, 0, 0, 0, 0, 0, 0, 0, 0, 0, 0, 0, 0, 0, 0, 0, 0, 0, 0, 0, 0, 0, 0], [0, 0, 0, 0, 0, 0, 0, 0, 0, 0, 0, 0, 0, 0, 0, 0, 0, 0, 0, 0, 0, 0, 0, 0, 0, 0, 0, 0, 0, 0, 0, 0, 0, 0, 0, 0, 0, 0, 0, 0, 0, 0, 0, 0, 0, 0, 0, 0, 0, 0, 0, 0, 0, 0, 0, 0, 0, 0, 1, 1, 1, 0, 1, 1, 1, 0, 0], [0, 1, 0, 0, 0, 0, 1, 1, 1, 0, 0, 0, 0, 0, 0, 0, 0, 0, 0, 0, 0, 0, 0, 0, 0, 0, 0, 0, 0, 0, 0, 0, 0, 0, 0, 0, 0, 0, 0, 0, 0, 0, 1, 0, 0, 1, 0, 0, 0, 1, 0, 0, 0, 0, 0, 0, 0, 0, 0, 0, 0, 0, 0, 0, 0, 0, 0], [0, 0, 0, 0, 0, 0, 0, 0, 0, 0, 0, 0, 0, 0, 0, 0, 0, 0, 0, 0, 0, 0, 0, 0, 1, 0, 0, 0, 0, 0, 0, 0, 0, 0, 0, 0, 0, 0, 0, 0, 0, 0, 0, 0, 0, 0, 0, 0, 0, 0, 0, 0, 0, 0, 0, 0, 0, 0, 0, 0, 0, 0, 0, 0, 0, 0, 0], [0, 0, 0, 0, 1, 0, 0, 0, 0, 0, 0, 0, 0, 0, 0, 0, 1, 0, 0, 0, 0, 0, 1, 0, 0, 0, 0, 0, 0, 0, 1, 0, 0, 0, 0, 0, 0, 0, 0, 0, 0, 0, 0, 0, 0, 0, 0, 0, 0, 0, 0, 0, 0, 0, 1, 0, 0, 0, 0, 0, 0, 0, 0, 0, 0, 0, 0], [0, 0, 0, 0, 0, 0, 0, 0, 0, 0, 0, 0, 0, 0, 0, 0, 0, 0, 0, 0, 0, 0, 0, 0, 0, 0, 0, 0, 0, 0, 0, 0, 0, 0, 0, 0, 1, 0, 0, 0, 0, 0, 0, 0, 0, 0, 0, 0, 0, 0, 0, 0, 0, 0, 0, 0, 0, 0, 0, 0, 0, 0, 0, 0, 0, 0, 0], [0, 0, 0, 0, 1, 0, 0, 0, 0, 0, 0, 0, 0, 0, 0, 0, 1, 0, 0, 0, 0, 0, 1, 0, 0, 0, 0, 0, 0, 0, 1, 0, 0, 0, 0, 0, 0, 0, 0, 0, 0, 1, 0, 0, 0, 0, 0, 0, 0, 0, 0, 1, 0, 1, 1, 0, 0, 0, 0, 0, 0, 0, 0, 0, 0, 0, 0], [0, 0, 0, 0, 0, 0, 0, 0, 0, 0, 0, 0, 0, 0, 0, 0, 0, 0, 0, 0, 0, 0, 0, 0, 0, 0, 0, 0, 0, 0, 0, 0, 0, 0, 0, 0, 0, 0, 0, 0, 0, 0, 0, 0, 0, 0, 0, 0, 0, 0, 0, 0, 0, 0, 0, 0, 0, 0, 0, 0, 0, 0, 0, 0, 0, 0, 0], [0, 1, 0, 0, 0, 0, 0, 1, 0, 0, 0, 0, 0, 0, 0, 0, 0, 0, 0, 0, 0, 0, 0, 0, 0, 0, 0, 0, 0, 0, 0, 0, 0, 0, 0, 0, 0, 0, 0, 0, 0, 0, 0, 0, 0, 0, 0, 0, 0, 0, 0, 0, 0, 0, 0, 0, 0, 0, 0, 0, 0, 0, 0, 0, 0, 0, 0], [0, 0, 0, 0, 0, 0, 0, 0, 0, 0, 0, 0, 0, 0, 0, 0, 0, 0, 0, 0, 0, 0, 0, 0, 0, 0, 0, 0, 0, 0, 0, 0, 0, 0, 0, 0, 0, 0, 0, 0, 0, 0, 0, 0, 0, 0, 0, 0, 0, 0, 0, 0, 0, 0, 0, 0, 0, 0, 0, 0, 0, 0, 0, 0, 0, 0, 0]]\n",
            "[[0, 0, 0, 0, 1], [1, 0, 0, 0, 0], [0, 0, 1, 0, 0], [0, 0, 0, 1, 0], [0, 1, 0, 0, 0], [1, 0, 0, 0, 0], [0, 0, 1, 0, 0], [0, 1, 0, 0, 0], [0, 0, 0, 0, 1], [0, 1, 0, 0, 0], [0, 0, 1, 0, 0], [0, 0, 0, 1, 0], [1, 0, 0, 0, 0], [0, 0, 0, 0, 1], [1, 0, 0, 0, 0], [0, 0, 0, 0, 1], [1, 0, 0, 0, 0], [0, 1, 0, 0, 0], [0, 0, 1, 0, 0], [0, 0, 1, 0, 0], [0, 0, 0, 1, 0], [1, 0, 0, 0, 0], [1, 0, 0, 0, 0], [0, 1, 0, 0, 0]]\n"
          ]
        }
      ]
    },
    {
      "cell_type": "code",
      "metadata": {
        "id": "vcBkqEA6-VSR"
      },
      "source": [
        "import keras \n",
        "from tensorflow.keras.layers import Dense, Dropout, Activation\n",
        "from tensorflow.keras.models import Sequential\n",
        "from tensorflow.keras.optimizers import SGD"
      ],
      "id": "vcBkqEA6-VSR",
      "execution_count": 16,
      "outputs": []
    },
    {
      "cell_type": "code",
      "metadata": {
        "colab": {
          "base_uri": "https://localhost:8080/"
        },
        "id": "KM3Qa2ri4z5s",
        "outputId": "17299d34-196d-4adb-f734-0114fd7abdd3"
      },
      "source": [
        "model = Sequential()\n",
        "model.add(Dense(128, input_shape=(len(train_words[0]),), activation='relu'))\n",
        "model.add(Dropout(0.5))\n",
        "model.add(Dense(64, activation='relu'))\n",
        "model.add(Dropout(0.5))\n",
        "model.add(Dense(len(train_tags[0]), activation='softmax'))\n",
        "\n",
        "\n",
        "sgd = SGD(learning_rate=0.01, decay=1e-6, momentum=0.9, nesterov=True)\n",
        "model.compile(loss='categorical_crossentropy', optimizer=sgd, metrics=['accuracy'])\n",
        "\n",
        "\n",
        "hist = model.fit(numpy.array(train_words), numpy.array(train_tags), epochs=200, batch_size=5, verbose=1)"
      ],
      "id": "KM3Qa2ri4z5s",
      "execution_count": 17,
      "outputs": [
        {
          "output_type": "stream",
          "name": "stdout",
          "text": [
            "Epoch 1/200\n",
            "5/5 [==============================] - 1s 3ms/step - loss: 1.6724 - accuracy: 0.1250\n",
            "Epoch 2/200\n",
            "5/5 [==============================] - 0s 3ms/step - loss: 1.5894 - accuracy: 0.4167\n",
            "Epoch 3/200\n",
            "5/5 [==============================] - 0s 3ms/step - loss: 1.5385 - accuracy: 0.3750\n",
            "Epoch 4/200\n",
            "5/5 [==============================] - 0s 2ms/step - loss: 1.4617 - accuracy: 0.3750\n",
            "Epoch 5/200\n",
            "5/5 [==============================] - 0s 2ms/step - loss: 1.4433 - accuracy: 0.4167\n",
            "Epoch 6/200\n",
            "5/5 [==============================] - 0s 2ms/step - loss: 1.4732 - accuracy: 0.3750\n",
            "Epoch 7/200\n",
            "5/5 [==============================] - 0s 2ms/step - loss: 1.4522 - accuracy: 0.4167\n",
            "Epoch 8/200\n",
            "5/5 [==============================] - 0s 2ms/step - loss: 1.2492 - accuracy: 0.6250\n",
            "Epoch 9/200\n",
            "5/5 [==============================] - 0s 2ms/step - loss: 1.2441 - accuracy: 0.5417\n",
            "Epoch 10/200\n",
            "5/5 [==============================] - 0s 2ms/step - loss: 1.1666 - accuracy: 0.6250\n",
            "Epoch 11/200\n",
            "5/5 [==============================] - 0s 2ms/step - loss: 1.2542 - accuracy: 0.5833\n",
            "Epoch 12/200\n",
            "5/5 [==============================] - 0s 2ms/step - loss: 1.0446 - accuracy: 0.7083\n",
            "Epoch 13/200\n",
            "5/5 [==============================] - 0s 2ms/step - loss: 1.1233 - accuracy: 0.6667\n",
            "Epoch 14/200\n",
            "5/5 [==============================] - 0s 4ms/step - loss: 0.9896 - accuracy: 0.7083\n",
            "Epoch 15/200\n",
            "5/5 [==============================] - 0s 2ms/step - loss: 1.0140 - accuracy: 0.6667\n",
            "Epoch 16/200\n",
            "5/5 [==============================] - 0s 2ms/step - loss: 0.8848 - accuracy: 0.7917\n",
            "Epoch 17/200\n",
            "5/5 [==============================] - 0s 2ms/step - loss: 0.9637 - accuracy: 0.6667\n",
            "Epoch 18/200\n",
            "5/5 [==============================] - 0s 3ms/step - loss: 0.8537 - accuracy: 0.7083\n",
            "Epoch 19/200\n",
            "5/5 [==============================] - 0s 3ms/step - loss: 0.7839 - accuracy: 0.8333\n",
            "Epoch 20/200\n",
            "5/5 [==============================] - 0s 3ms/step - loss: 0.6674 - accuracy: 0.8333\n",
            "Epoch 21/200\n",
            "5/5 [==============================] - 0s 3ms/step - loss: 0.6034 - accuracy: 0.8750\n",
            "Epoch 22/200\n",
            "5/5 [==============================] - 0s 3ms/step - loss: 0.7522 - accuracy: 0.7083\n",
            "Epoch 23/200\n",
            "5/5 [==============================] - 0s 2ms/step - loss: 0.7788 - accuracy: 0.7917\n",
            "Epoch 24/200\n",
            "5/5 [==============================] - 0s 2ms/step - loss: 0.6264 - accuracy: 0.7500\n",
            "Epoch 25/200\n",
            "5/5 [==============================] - 0s 2ms/step - loss: 0.4333 - accuracy: 0.9167\n",
            "Epoch 26/200\n",
            "5/5 [==============================] - 0s 45ms/step - loss: 0.6413 - accuracy: 0.8333\n",
            "Epoch 27/200\n",
            "5/5 [==============================] - 0s 3ms/step - loss: 0.7567 - accuracy: 0.6250\n",
            "Epoch 28/200\n",
            "5/5 [==============================] - 0s 2ms/step - loss: 0.4241 - accuracy: 0.8750\n",
            "Epoch 29/200\n",
            "5/5 [==============================] - 0s 2ms/step - loss: 0.4267 - accuracy: 0.8750\n",
            "Epoch 30/200\n",
            "5/5 [==============================] - 0s 2ms/step - loss: 0.6384 - accuracy: 0.7083\n",
            "Epoch 31/200\n",
            "5/5 [==============================] - 0s 2ms/step - loss: 0.5315 - accuracy: 0.7917\n",
            "Epoch 32/200\n",
            "5/5 [==============================] - 0s 2ms/step - loss: 0.4908 - accuracy: 0.8333\n",
            "Epoch 33/200\n",
            "5/5 [==============================] - 0s 2ms/step - loss: 0.4553 - accuracy: 0.8333\n",
            "Epoch 34/200\n",
            "5/5 [==============================] - 0s 2ms/step - loss: 0.4672 - accuracy: 0.8333\n",
            "Epoch 35/200\n",
            "5/5 [==============================] - 0s 2ms/step - loss: 0.4225 - accuracy: 0.8333\n",
            "Epoch 36/200\n",
            "5/5 [==============================] - 0s 3ms/step - loss: 0.4141 - accuracy: 0.8333\n",
            "Epoch 37/200\n",
            "5/5 [==============================] - 0s 3ms/step - loss: 0.3892 - accuracy: 0.8750\n",
            "Epoch 38/200\n",
            "5/5 [==============================] - 0s 2ms/step - loss: 0.3085 - accuracy: 0.9167\n",
            "Epoch 39/200\n",
            "5/5 [==============================] - 0s 3ms/step - loss: 0.3898 - accuracy: 0.9167\n",
            "Epoch 40/200\n",
            "5/5 [==============================] - 0s 3ms/step - loss: 0.3300 - accuracy: 0.9167\n",
            "Epoch 41/200\n",
            "5/5 [==============================] - 0s 3ms/step - loss: 0.3419 - accuracy: 0.8750\n",
            "Epoch 42/200\n",
            "5/5 [==============================] - 0s 3ms/step - loss: 0.2612 - accuracy: 0.9167\n",
            "Epoch 43/200\n",
            "5/5 [==============================] - 0s 2ms/step - loss: 0.3144 - accuracy: 0.9167\n",
            "Epoch 44/200\n",
            "5/5 [==============================] - 0s 2ms/step - loss: 0.3983 - accuracy: 0.8333\n",
            "Epoch 45/200\n",
            "5/5 [==============================] - 0s 2ms/step - loss: 0.2980 - accuracy: 0.9583\n",
            "Epoch 46/200\n",
            "5/5 [==============================] - 0s 2ms/step - loss: 0.2814 - accuracy: 0.8750\n",
            "Epoch 47/200\n",
            "5/5 [==============================] - 0s 3ms/step - loss: 0.2166 - accuracy: 0.9583\n",
            "Epoch 48/200\n",
            "5/5 [==============================] - 0s 2ms/step - loss: 0.2477 - accuracy: 0.8750\n",
            "Epoch 49/200\n",
            "5/5 [==============================] - 0s 2ms/step - loss: 0.3134 - accuracy: 0.8750\n",
            "Epoch 50/200\n",
            "5/5 [==============================] - 0s 2ms/step - loss: 0.2228 - accuracy: 0.9167\n",
            "Epoch 51/200\n",
            "5/5 [==============================] - 0s 3ms/step - loss: 0.2763 - accuracy: 0.8750\n",
            "Epoch 52/200\n",
            "5/5 [==============================] - 0s 2ms/step - loss: 0.2590 - accuracy: 0.9167\n",
            "Epoch 53/200\n",
            "5/5 [==============================] - 0s 2ms/step - loss: 0.3520 - accuracy: 0.8333\n",
            "Epoch 54/200\n",
            "5/5 [==============================] - 0s 4ms/step - loss: 0.2430 - accuracy: 0.9167\n",
            "Epoch 55/200\n",
            "5/5 [==============================] - 0s 3ms/step - loss: 0.4428 - accuracy: 0.7917\n",
            "Epoch 56/200\n",
            "5/5 [==============================] - 0s 3ms/step - loss: 0.2668 - accuracy: 0.9167\n",
            "Epoch 57/200\n",
            "5/5 [==============================] - 0s 3ms/step - loss: 0.1620 - accuracy: 0.9583\n",
            "Epoch 58/200\n",
            "5/5 [==============================] - 0s 2ms/step - loss: 0.3174 - accuracy: 0.8750\n",
            "Epoch 59/200\n",
            "5/5 [==============================] - 0s 2ms/step - loss: 0.2690 - accuracy: 0.9167\n",
            "Epoch 60/200\n",
            "5/5 [==============================] - 0s 2ms/step - loss: 0.2481 - accuracy: 0.9167\n",
            "Epoch 61/200\n",
            "5/5 [==============================] - 0s 2ms/step - loss: 0.2617 - accuracy: 0.9167\n",
            "Epoch 62/200\n",
            "5/5 [==============================] - 0s 3ms/step - loss: 0.1748 - accuracy: 0.9583\n",
            "Epoch 63/200\n",
            "5/5 [==============================] - 0s 2ms/step - loss: 0.3641 - accuracy: 0.8333\n",
            "Epoch 64/200\n",
            "5/5 [==============================] - 0s 3ms/step - loss: 0.2284 - accuracy: 0.9167\n",
            "Epoch 65/200\n",
            "5/5 [==============================] - 0s 2ms/step - loss: 0.2729 - accuracy: 0.9167\n",
            "Epoch 66/200\n",
            "5/5 [==============================] - 0s 2ms/step - loss: 0.3783 - accuracy: 0.8750\n",
            "Epoch 67/200\n",
            "5/5 [==============================] - 0s 2ms/step - loss: 0.2134 - accuracy: 0.9583\n",
            "Epoch 68/200\n",
            "5/5 [==============================] - 0s 3ms/step - loss: 0.2051 - accuracy: 0.9167\n",
            "Epoch 69/200\n",
            "5/5 [==============================] - 0s 2ms/step - loss: 0.1756 - accuracy: 0.9167\n",
            "Epoch 70/200\n",
            "5/5 [==============================] - 0s 3ms/step - loss: 0.3010 - accuracy: 0.8750\n",
            "Epoch 71/200\n",
            "5/5 [==============================] - 0s 3ms/step - loss: 0.2904 - accuracy: 0.8750\n",
            "Epoch 72/200\n",
            "5/5 [==============================] - 0s 2ms/step - loss: 0.1826 - accuracy: 0.9583\n",
            "Epoch 73/200\n",
            "5/5 [==============================] - 0s 3ms/step - loss: 0.1289 - accuracy: 0.9583\n",
            "Epoch 74/200\n",
            "5/5 [==============================] - 0s 4ms/step - loss: 0.1700 - accuracy: 0.9167\n",
            "Epoch 75/200\n",
            "5/5 [==============================] - 0s 3ms/step - loss: 0.2277 - accuracy: 0.8750\n",
            "Epoch 76/200\n",
            "5/5 [==============================] - 0s 2ms/step - loss: 0.2414 - accuracy: 0.8750\n",
            "Epoch 77/200\n",
            "5/5 [==============================] - 0s 2ms/step - loss: 0.2876 - accuracy: 0.9167\n",
            "Epoch 78/200\n",
            "5/5 [==============================] - 0s 2ms/step - loss: 0.2008 - accuracy: 0.9583\n",
            "Epoch 79/200\n",
            "5/5 [==============================] - 0s 2ms/step - loss: 0.1903 - accuracy: 0.9583\n",
            "Epoch 80/200\n",
            "5/5 [==============================] - 0s 2ms/step - loss: 0.1994 - accuracy: 0.9167\n",
            "Epoch 81/200\n",
            "5/5 [==============================] - 0s 4ms/step - loss: 0.2031 - accuracy: 0.9167\n",
            "Epoch 82/200\n",
            "5/5 [==============================] - 0s 2ms/step - loss: 0.2138 - accuracy: 0.9583\n",
            "Epoch 83/200\n",
            "5/5 [==============================] - 0s 2ms/step - loss: 0.2606 - accuracy: 0.9583\n",
            "Epoch 84/200\n",
            "5/5 [==============================] - 0s 3ms/step - loss: 0.3331 - accuracy: 0.8750\n",
            "Epoch 85/200\n",
            "5/5 [==============================] - 0s 3ms/step - loss: 0.2629 - accuracy: 0.9583\n",
            "Epoch 86/200\n",
            "5/5 [==============================] - 0s 3ms/step - loss: 0.1965 - accuracy: 0.9167\n",
            "Epoch 87/200\n",
            "5/5 [==============================] - 0s 3ms/step - loss: 0.1418 - accuracy: 0.9583\n",
            "Epoch 88/200\n",
            "5/5 [==============================] - 0s 2ms/step - loss: 0.3794 - accuracy: 0.8750\n",
            "Epoch 89/200\n",
            "5/5 [==============================] - 0s 3ms/step - loss: 0.3386 - accuracy: 0.8750\n",
            "Epoch 90/200\n",
            "5/5 [==============================] - 0s 2ms/step - loss: 0.2086 - accuracy: 0.9583\n",
            "Epoch 91/200\n",
            "5/5 [==============================] - 0s 3ms/step - loss: 0.2376 - accuracy: 0.9167\n",
            "Epoch 92/200\n",
            "5/5 [==============================] - 0s 3ms/step - loss: 0.1791 - accuracy: 0.9167\n",
            "Epoch 93/200\n",
            "5/5 [==============================] - 0s 2ms/step - loss: 0.1546 - accuracy: 0.9583\n",
            "Epoch 94/200\n",
            "5/5 [==============================] - 0s 2ms/step - loss: 0.1477 - accuracy: 0.9583\n",
            "Epoch 95/200\n",
            "5/5 [==============================] - 0s 2ms/step - loss: 0.2112 - accuracy: 0.9583\n",
            "Epoch 96/200\n",
            "5/5 [==============================] - 0s 3ms/step - loss: 0.2364 - accuracy: 0.9167\n",
            "Epoch 97/200\n",
            "5/5 [==============================] - 0s 2ms/step - loss: 0.2065 - accuracy: 0.9167\n",
            "Epoch 98/200\n",
            "5/5 [==============================] - 0s 3ms/step - loss: 0.2193 - accuracy: 0.9167\n",
            "Epoch 99/200\n",
            "5/5 [==============================] - 0s 3ms/step - loss: 0.2099 - accuracy: 0.9167\n",
            "Epoch 100/200\n",
            "5/5 [==============================] - 0s 3ms/step - loss: 0.2226 - accuracy: 0.9167\n",
            "Epoch 101/200\n",
            "5/5 [==============================] - 0s 3ms/step - loss: 0.1783 - accuracy: 0.9167\n",
            "Epoch 102/200\n",
            "5/5 [==============================] - 0s 2ms/step - loss: 0.1378 - accuracy: 0.9583\n",
            "Epoch 103/200\n",
            "5/5 [==============================] - 0s 2ms/step - loss: 0.1805 - accuracy: 0.9583\n",
            "Epoch 104/200\n",
            "5/5 [==============================] - 0s 2ms/step - loss: 0.2776 - accuracy: 0.8750\n",
            "Epoch 105/200\n",
            "5/5 [==============================] - 0s 2ms/step - loss: 0.1510 - accuracy: 0.9583\n",
            "Epoch 106/200\n",
            "5/5 [==============================] - 0s 2ms/step - loss: 0.1163 - accuracy: 0.9583\n",
            "Epoch 107/200\n",
            "5/5 [==============================] - 0s 2ms/step - loss: 0.1410 - accuracy: 0.9167\n",
            "Epoch 108/200\n",
            "5/5 [==============================] - 0s 2ms/step - loss: 0.2041 - accuracy: 0.9167\n",
            "Epoch 109/200\n",
            "5/5 [==============================] - 0s 3ms/step - loss: 0.1984 - accuracy: 0.9167\n",
            "Epoch 110/200\n",
            "5/5 [==============================] - 0s 2ms/step - loss: 0.1734 - accuracy: 0.9583\n",
            "Epoch 111/200\n",
            "5/5 [==============================] - 0s 3ms/step - loss: 0.2881 - accuracy: 0.9167\n",
            "Epoch 112/200\n",
            "5/5 [==============================] - 0s 2ms/step - loss: 0.2665 - accuracy: 0.8333\n",
            "Epoch 113/200\n",
            "5/5 [==============================] - 0s 2ms/step - loss: 0.1451 - accuracy: 0.9583\n",
            "Epoch 114/200\n",
            "5/5 [==============================] - 0s 2ms/step - loss: 0.1756 - accuracy: 0.9167\n",
            "Epoch 115/200\n",
            "5/5 [==============================] - 0s 2ms/step - loss: 0.1763 - accuracy: 0.9583\n",
            "Epoch 116/200\n",
            "5/5 [==============================] - 0s 2ms/step - loss: 0.2104 - accuracy: 0.9167\n",
            "Epoch 117/200\n",
            "5/5 [==============================] - 0s 2ms/step - loss: 0.1984 - accuracy: 0.9583\n",
            "Epoch 118/200\n",
            "5/5 [==============================] - 0s 2ms/step - loss: 0.1190 - accuracy: 0.9583\n",
            "Epoch 119/200\n",
            "5/5 [==============================] - 0s 2ms/step - loss: 0.0969 - accuracy: 0.9583\n",
            "Epoch 120/200\n",
            "5/5 [==============================] - 0s 4ms/step - loss: 0.0929 - accuracy: 0.9583\n",
            "Epoch 121/200\n",
            "5/5 [==============================] - 0s 3ms/step - loss: 0.2357 - accuracy: 0.9167\n",
            "Epoch 122/200\n",
            "5/5 [==============================] - 0s 2ms/step - loss: 0.1375 - accuracy: 0.9583\n",
            "Epoch 123/200\n",
            "5/5 [==============================] - 0s 2ms/step - loss: 0.1813 - accuracy: 0.9167\n",
            "Epoch 124/200\n",
            "5/5 [==============================] - 0s 2ms/step - loss: 0.1724 - accuracy: 0.9583\n",
            "Epoch 125/200\n",
            "5/5 [==============================] - 0s 2ms/step - loss: 0.0893 - accuracy: 0.9583\n",
            "Epoch 126/200\n",
            "5/5 [==============================] - 0s 2ms/step - loss: 0.1386 - accuracy: 0.9583\n",
            "Epoch 127/200\n",
            "5/5 [==============================] - 0s 3ms/step - loss: 0.1625 - accuracy: 0.9583\n",
            "Epoch 128/200\n",
            "5/5 [==============================] - 0s 2ms/step - loss: 0.1768 - accuracy: 0.9167\n",
            "Epoch 129/200\n",
            "5/5 [==============================] - 0s 2ms/step - loss: 0.1355 - accuracy: 0.9583\n",
            "Epoch 130/200\n",
            "5/5 [==============================] - 0s 3ms/step - loss: 0.2190 - accuracy: 0.8750\n",
            "Epoch 131/200\n",
            "5/5 [==============================] - 0s 3ms/step - loss: 0.1519 - accuracy: 0.9583\n",
            "Epoch 132/200\n",
            "5/5 [==============================] - 0s 2ms/step - loss: 0.1526 - accuracy: 0.9167\n",
            "Epoch 133/200\n",
            "5/5 [==============================] - 0s 3ms/step - loss: 0.1884 - accuracy: 0.9583\n",
            "Epoch 134/200\n",
            "5/5 [==============================] - 0s 3ms/step - loss: 0.1694 - accuracy: 0.9583\n",
            "Epoch 135/200\n",
            "5/5 [==============================] - 0s 2ms/step - loss: 0.1977 - accuracy: 0.9167\n",
            "Epoch 136/200\n",
            "5/5 [==============================] - 0s 2ms/step - loss: 0.1057 - accuracy: 0.9583\n",
            "Epoch 137/200\n",
            "5/5 [==============================] - 0s 2ms/step - loss: 0.1658 - accuracy: 0.9167\n",
            "Epoch 138/200\n",
            "5/5 [==============================] - 0s 3ms/step - loss: 0.1576 - accuracy: 0.9583\n",
            "Epoch 139/200\n",
            "5/5 [==============================] - 0s 2ms/step - loss: 0.0965 - accuracy: 0.9583\n",
            "Epoch 140/200\n",
            "5/5 [==============================] - 0s 2ms/step - loss: 0.2566 - accuracy: 0.8750\n",
            "Epoch 141/200\n",
            "5/5 [==============================] - 0s 2ms/step - loss: 0.1062 - accuracy: 0.9583\n",
            "Epoch 142/200\n",
            "5/5 [==============================] - 0s 2ms/step - loss: 0.2330 - accuracy: 0.9167\n",
            "Epoch 143/200\n",
            "5/5 [==============================] - 0s 3ms/step - loss: 0.1640 - accuracy: 0.9583\n",
            "Epoch 144/200\n",
            "5/5 [==============================] - 0s 3ms/step - loss: 0.2017 - accuracy: 0.9583\n",
            "Epoch 145/200\n",
            "5/5 [==============================] - 0s 2ms/step - loss: 0.1486 - accuracy: 0.9583\n",
            "Epoch 146/200\n",
            "5/5 [==============================] - 0s 2ms/step - loss: 0.1183 - accuracy: 0.9583\n",
            "Epoch 147/200\n",
            "5/5 [==============================] - 0s 2ms/step - loss: 0.1681 - accuracy: 0.9167\n",
            "Epoch 148/200\n",
            "5/5 [==============================] - 0s 4ms/step - loss: 0.1307 - accuracy: 0.9583\n",
            "Epoch 149/200\n",
            "5/5 [==============================] - 0s 2ms/step - loss: 0.2592 - accuracy: 0.9167\n",
            "Epoch 150/200\n",
            "5/5 [==============================] - 0s 3ms/step - loss: 0.0902 - accuracy: 0.9583\n",
            "Epoch 151/200\n",
            "5/5 [==============================] - 0s 2ms/step - loss: 0.2010 - accuracy: 0.9583\n",
            "Epoch 152/200\n",
            "5/5 [==============================] - 0s 3ms/step - loss: 0.1049 - accuracy: 0.9583\n",
            "Epoch 153/200\n",
            "5/5 [==============================] - 0s 3ms/step - loss: 0.1048 - accuracy: 0.9583\n",
            "Epoch 154/200\n",
            "5/5 [==============================] - 0s 2ms/step - loss: 0.1342 - accuracy: 0.9583\n",
            "Epoch 155/200\n",
            "5/5 [==============================] - 0s 2ms/step - loss: 0.1020 - accuracy: 0.9583\n",
            "Epoch 156/200\n",
            "5/5 [==============================] - 0s 3ms/step - loss: 0.1302 - accuracy: 0.9583\n",
            "Epoch 157/200\n",
            "5/5 [==============================] - 0s 3ms/step - loss: 0.1444 - accuracy: 0.9167\n",
            "Epoch 158/200\n",
            "5/5 [==============================] - 0s 4ms/step - loss: 0.1241 - accuracy: 0.9583\n",
            "Epoch 159/200\n",
            "5/5 [==============================] - 0s 2ms/step - loss: 0.1095 - accuracy: 0.9583\n",
            "Epoch 160/200\n",
            "5/5 [==============================] - 0s 2ms/step - loss: 0.1475 - accuracy: 0.8750\n",
            "Epoch 161/200\n",
            "5/5 [==============================] - 0s 4ms/step - loss: 0.1147 - accuracy: 0.9583\n",
            "Epoch 162/200\n",
            "5/5 [==============================] - 0s 3ms/step - loss: 0.2542 - accuracy: 0.9583\n",
            "Epoch 163/200\n",
            "5/5 [==============================] - 0s 2ms/step - loss: 0.1138 - accuracy: 0.9583\n",
            "Epoch 164/200\n",
            "5/5 [==============================] - 0s 2ms/step - loss: 0.1150 - accuracy: 0.9583\n",
            "Epoch 165/200\n",
            "5/5 [==============================] - 0s 3ms/step - loss: 0.1188 - accuracy: 0.9167\n",
            "Epoch 166/200\n",
            "5/5 [==============================] - 0s 2ms/step - loss: 0.1227 - accuracy: 0.9583\n",
            "Epoch 167/200\n",
            "5/5 [==============================] - 0s 3ms/step - loss: 0.2209 - accuracy: 0.9167\n",
            "Epoch 168/200\n",
            "5/5 [==============================] - 0s 2ms/step - loss: 0.1707 - accuracy: 0.9167\n",
            "Epoch 169/200\n",
            "5/5 [==============================] - 0s 3ms/step - loss: 0.1167 - accuracy: 0.9583\n",
            "Epoch 170/200\n",
            "5/5 [==============================] - 0s 3ms/step - loss: 0.2036 - accuracy: 0.9167\n",
            "Epoch 171/200\n",
            "5/5 [==============================] - 0s 3ms/step - loss: 0.1957 - accuracy: 0.9583\n",
            "Epoch 172/200\n",
            "5/5 [==============================] - 0s 2ms/step - loss: 0.1209 - accuracy: 0.9583\n",
            "Epoch 173/200\n",
            "5/5 [==============================] - 0s 3ms/step - loss: 0.1924 - accuracy: 0.9583\n",
            "Epoch 174/200\n",
            "5/5 [==============================] - 0s 2ms/step - loss: 0.1441 - accuracy: 0.9167\n",
            "Epoch 175/200\n",
            "5/5 [==============================] - 0s 2ms/step - loss: 0.1156 - accuracy: 0.9583\n",
            "Epoch 176/200\n",
            "5/5 [==============================] - 0s 2ms/step - loss: 0.1495 - accuracy: 0.9583\n",
            "Epoch 177/200\n",
            "5/5 [==============================] - 0s 3ms/step - loss: 0.1212 - accuracy: 0.9583\n",
            "Epoch 178/200\n",
            "5/5 [==============================] - 0s 2ms/step - loss: 0.1072 - accuracy: 0.9583\n",
            "Epoch 179/200\n",
            "5/5 [==============================] - 0s 3ms/step - loss: 0.0725 - accuracy: 0.9583\n",
            "Epoch 180/200\n",
            "5/5 [==============================] - 0s 3ms/step - loss: 0.1692 - accuracy: 0.9583\n",
            "Epoch 181/200\n",
            "5/5 [==============================] - 0s 2ms/step - loss: 0.1018 - accuracy: 0.9583\n",
            "Epoch 182/200\n",
            "5/5 [==============================] - 0s 2ms/step - loss: 0.1338 - accuracy: 0.9583\n",
            "Epoch 183/200\n",
            "5/5 [==============================] - 0s 3ms/step - loss: 0.1161 - accuracy: 0.9583\n",
            "Epoch 184/200\n",
            "5/5 [==============================] - 0s 3ms/step - loss: 0.0692 - accuracy: 0.9583\n",
            "Epoch 185/200\n",
            "5/5 [==============================] - 0s 3ms/step - loss: 0.1720 - accuracy: 0.9583\n",
            "Epoch 186/200\n",
            "5/5 [==============================] - 0s 3ms/step - loss: 0.0969 - accuracy: 0.9583\n",
            "Epoch 187/200\n",
            "5/5 [==============================] - 0s 4ms/step - loss: 0.1693 - accuracy: 0.9583\n",
            "Epoch 188/200\n",
            "5/5 [==============================] - 0s 2ms/step - loss: 0.1890 - accuracy: 0.9583\n",
            "Epoch 189/200\n",
            "5/5 [==============================] - 0s 2ms/step - loss: 0.1392 - accuracy: 0.9583\n",
            "Epoch 190/200\n",
            "5/5 [==============================] - 0s 2ms/step - loss: 0.1084 - accuracy: 0.9583\n",
            "Epoch 191/200\n",
            "5/5 [==============================] - 0s 3ms/step - loss: 0.1086 - accuracy: 0.9167\n",
            "Epoch 192/200\n",
            "5/5 [==============================] - 0s 3ms/step - loss: 0.1059 - accuracy: 0.9583\n",
            "Epoch 193/200\n",
            "5/5 [==============================] - 0s 2ms/step - loss: 0.0736 - accuracy: 1.0000\n",
            "Epoch 194/200\n",
            "5/5 [==============================] - 0s 3ms/step - loss: 0.1372 - accuracy: 0.9583\n",
            "Epoch 195/200\n",
            "5/5 [==============================] - 0s 2ms/step - loss: 0.1977 - accuracy: 0.9583\n",
            "Epoch 196/200\n",
            "5/5 [==============================] - 0s 2ms/step - loss: 0.1474 - accuracy: 0.9583\n",
            "Epoch 197/200\n",
            "5/5 [==============================] - 0s 3ms/step - loss: 0.1566 - accuracy: 0.9583\n",
            "Epoch 198/200\n",
            "5/5 [==============================] - 0s 3ms/step - loss: 0.0767 - accuracy: 1.0000\n",
            "Epoch 199/200\n",
            "5/5 [==============================] - 0s 2ms/step - loss: 0.1733 - accuracy: 0.9167\n",
            "Epoch 200/200\n",
            "5/5 [==============================] - 0s 3ms/step - loss: 0.1341 - accuracy: 0.9583\n"
          ]
        }
      ]
    },
    {
      "cell_type": "code",
      "metadata": {
        "id": "l_hhnrr340AB"
      },
      "source": [
        "def normalize(sentence):\n",
        "  words = sentence.strip(\"!?.,\").split(\" \")\n",
        "  return [lemma.lemmatize(word.lower())for word in words]"
      ],
      "id": "l_hhnrr340AB",
      "execution_count": 18,
      "outputs": []
    },
    {
      "cell_type": "code",
      "metadata": {
        "colab": {
          "base_uri": "https://localhost:8080/"
        },
        "id": "AQ_m-wKVBSbX",
        "outputId": "9b052ac9-3a3b-4883-d0eb-28e4daf131bd"
      },
      "source": [
        "\"How are you?\"\n",
        "\n",
        "normalize(\"How are you?\")"
      ],
      "id": "AQ_m-wKVBSbX",
      "execution_count": 19,
      "outputs": [
        {
          "output_type": "execute_result",
          "data": {
            "text/plain": [
              "['how', 'are', 'you']"
            ]
          },
          "metadata": {},
          "execution_count": 19
        }
      ]
    },
    {
      "cell_type": "code",
      "metadata": {
        "id": "F9UPEILjBnP4"
      },
      "source": [
        "def convert(sentence, words):\n",
        "  vocabulary = normalize(sentence)\n",
        "  output = []\n",
        "  for w in words:\n",
        "    if w in vocabulary:\n",
        "      output.append(1)\n",
        "    else:\n",
        "      output.append(0)\n",
        "  return output\n"
      ],
      "id": "F9UPEILjBnP4",
      "execution_count": 20,
      "outputs": []
    },
    {
      "cell_type": "code",
      "metadata": {
        "colab": {
          "base_uri": "https://localhost:8080/"
        },
        "id": "NlzFNuExBnTa",
        "outputId": "c60bc0d5-8446-495c-8180-af3878615d24"
      },
      "source": [
        "\"How are you?\"\n",
        "\n",
        "convert(\"How are you?\", words)"
      ],
      "id": "NlzFNuExBnTa",
      "execution_count": 21,
      "outputs": [
        {
          "output_type": "execute_result",
          "data": {
            "text/plain": [
              "[0,\n",
              " 0,\n",
              " 0,\n",
              " 1,\n",
              " 1,\n",
              " 0,\n",
              " 0,\n",
              " 0,\n",
              " 0,\n",
              " 0,\n",
              " 0,\n",
              " 0,\n",
              " 0,\n",
              " 0,\n",
              " 0,\n",
              " 0,\n",
              " 1,\n",
              " 0,\n",
              " 0,\n",
              " 0,\n",
              " 0,\n",
              " 0,\n",
              " 1,\n",
              " 0,\n",
              " 0,\n",
              " 0,\n",
              " 0,\n",
              " 0,\n",
              " 0,\n",
              " 0,\n",
              " 1,\n",
              " 0,\n",
              " 0,\n",
              " 0,\n",
              " 0,\n",
              " 0,\n",
              " 0,\n",
              " 0,\n",
              " 0,\n",
              " 0,\n",
              " 0,\n",
              " 0,\n",
              " 0,\n",
              " 0,\n",
              " 0,\n",
              " 0,\n",
              " 0,\n",
              " 0,\n",
              " 0,\n",
              " 0,\n",
              " 0,\n",
              " 0,\n",
              " 0,\n",
              " 0,\n",
              " 1,\n",
              " 0,\n",
              " 0,\n",
              " 0,\n",
              " 0,\n",
              " 0,\n",
              " 0,\n",
              " 0,\n",
              " 0,\n",
              " 0,\n",
              " 0,\n",
              " 0,\n",
              " 0]"
            ]
          },
          "metadata": {},
          "execution_count": 21
        }
      ]
    },
    {
      "cell_type": "code",
      "metadata": {
        "id": "6tNqRJ4SEUJ-"
      },
      "source": [
        "def predict(sentence, words, model):\n",
        "  sentence = convert(sentence, words)\n",
        "  results = model.predict(numpy.array([sentence]))[0]\n",
        "  return(results)"
      ],
      "id": "6tNqRJ4SEUJ-",
      "execution_count": 22,
      "outputs": []
    },
    {
      "cell_type": "code",
      "metadata": {
        "colab": {
          "base_uri": "https://localhost:8080/"
        },
        "id": "nEYfxCeBE_k-",
        "outputId": "fbf70ae7-b879-4edb-dc3e-94409c1cab91"
      },
      "source": [
        "predict(\"How are you?\", words, model)"
      ],
      "id": "nEYfxCeBE_k-",
      "execution_count": 23,
      "outputs": [
        {
          "output_type": "execute_result",
          "data": {
            "text/plain": [
              "array([9.94722366e-01, 3.90903838e-03, 1.23003952e-03, 1.17626616e-04,\n",
              "       2.09633617e-05], dtype=float32)"
            ]
          },
          "metadata": {},
          "execution_count": 23
        }
      ]
    },
    {
      "cell_type": "code",
      "metadata": {
        "id": "nqBTPUrQ1r1a"
      },
      "source": [
        "def questions():\n",
        "\n",
        "  # series of questions, 1 by 1\n",
        "\n",
        "  ''' series of questions to determine user's financial goals / investing \n",
        "  risk tolerance '''\n",
        "\n",
        "  # income question 1 \n",
        "\n",
        "  income = input(\"What is your yearly income (in USD)\")\n",
        "  income = income.strip().strip(\"$\")\n",
        "\n",
        "  while not income.isnumeric(): \n",
        "      income = input(\"Whoops! We couldn't interpret that response. Please try again. What is your yearly income (in USD)\")\n",
        "      income = income.strip().strip(\"$\")\n",
        "\n",
        "  income = int(income)\n",
        "\n",
        "  # net worth question 2\n",
        "\n",
        "  net_worth = input(\"What is your net worth (in USD)\")\n",
        "  net_worth = net_worth.strip().strip(\"$\")\n",
        "\n",
        "  while not net_worth.isnumeric(): \n",
        "      net_worth= input(\"Whoops! We couldn't interpret that response. Please try again. What is your net worth (in USD)\")\n",
        "      net_worth = net_worth.strip().strip(\"$\")\n",
        "\n",
        "  net_worth = int(net_worth)\n",
        "\n",
        "  # investment goal question : question 2 \n",
        "\n",
        "  investment_goal = input(\"What is your investment goal (in USD)\")\n",
        "  investment_goal = investment_goal.strip().strip(\"$\")\n",
        "\n",
        "  while not investment_goal.isnumeric():\n",
        "      investment_goal = input(\"Whoops! We couldn't interpret that response. Please try again. What is your investment goal (in USD)\")\n",
        "      investment_goal = investment_goal.strip().strip(\"$\")\n",
        "\n",
        "  investment_goal = int(investment_goal)\n",
        "\n",
        "  # principal amount you're investing question : question 4\n",
        "\n",
        "  principal_amt = input(\"What is your principal amount (in USD)\")\n",
        "  principal_amt = principal_amt.strip().strip(\"$\")\n",
        "\n",
        "  while not principal_amt.isnumeric():\n",
        "      principal_amt = input(\"Whoops! We couldn't interpret that response. Please try again. What is your principal amount (in USD)\")\n",
        "      principal_amt = principal_amt.strip().strip(\"$\")\n",
        "\n",
        "  principal_amt = int(principal_amt)\n",
        "\n",
        "  # question 5: what timeline do you need to be able to access your assets by? \n",
        "  \"\"\"#questionary.select(\"What timeline do you need to be able to access your assets by?\",\n",
        "          choices=[\n",
        "              \"Within 5 years from now\",\n",
        "              \"Between 5 and 10 years from now\",\n",
        "              \"Between 11 and 15 years from now\", \n",
        "              \"Between 16 and 20 years from now\" \n",
        "              ]).ask()\"\"\"\n",
        "\n",
        "  low = 0\n",
        "  mod = 0\n",
        "  high = 0\n",
        "\n",
        "  # for yearly income\n",
        "  if income < 100000:\n",
        "    low += 1\n",
        "  elif income < 250000:\n",
        "    mod += 1\n",
        "  else: \n",
        "    high +=1 \n",
        "\n",
        "  #for net worth\n",
        "  if net_worth < 100000:\n",
        "    low += 1\n",
        "  elif net_worth < 250000:\n",
        "    mod += 1\n",
        "  else: \n",
        "    high +=1 \n",
        "\n",
        "  #for investment goal\n",
        "  if investment_goal < 100000:\n",
        "    low += 1\n",
        "  elif investment_goal < 250000:\n",
        "    mod += 1\n",
        "  else: \n",
        "    high +=1 \n",
        "\n",
        "  #for principal amount\n",
        "  if principal_amt < 100000:\n",
        "    low += 1\n",
        "  elif principal_amt < 250000:\n",
        "    mod += 1\n",
        "  else: \n",
        "    high +=1 \n",
        "  \n",
        "\n",
        "  # compare low, mod, high; whichever value is greatest is their risk appetite\n",
        "  if low >= mod and low >= high:\n",
        "    print(\"Based on your responses, it seems like you are a conservative investor.\")\n",
        "    return low\n",
        "  if mod >= low and mod >= high: \n",
        "    print(\"Based on your responses, it seems like you are a conservative investor.\")\n",
        "  if high >= low and high >= mod:\n",
        "    print(\"Based on your responses, it seems like you are a conservative investor.\")"
      ],
      "id": "nqBTPUrQ1r1a",
      "execution_count": 30,
      "outputs": []
    },
    {
      "cell_type": "code",
      "metadata": {
        "id": "ZZBcKjz1E_nr"
      },
      "source": [
        "def response(results, tags):\n",
        "  new_list = []\n",
        "  for r in range(len(results)):\n",
        "    new_list.append([results[r], tags[r]])\n",
        "  new_list.sort(key=lambda x: x[0], reverse=True)\n",
        "  print(new_list)\n",
        "\n",
        "  if new_list [0][0]>.1:\n",
        "    if new_list [0][1]==\"investment\":\n",
        "      return questions()\n",
        "    else:\n",
        "\n",
        "      for i in intents[\"intents\"]:\n",
        "        if i [\"tag\"]== new_list[0][1]:\n",
        "          options = i [\"responses\"] \n",
        "          return options [random.randint(0, len(options))]"
      ],
      "id": "ZZBcKjz1E_nr",
      "execution_count": 31,
      "outputs": []
    },
    {
      "cell_type": "code",
      "metadata": {
        "colab": {
          "base_uri": "https://localhost:8080/"
        },
        "id": "wr7teO2CxHkG",
        "outputId": "28e2e9d3-7654-4f0e-bba9-4596116b6135"
      },
      "source": [
        "Ian_predict = predict(\"Investment Portfolio\", words, model)\n",
        "print(response(Ian_predict, tags))\n"
      ],
      "id": "wr7teO2CxHkG",
      "execution_count": 32,
      "outputs": [
        {
          "output_type": "stream",
          "name": "stdout",
          "text": [
            "[[0.999997, 'investment'], [2.2798372e-06, 'name'], [5.8125784e-07, 'goodbye'], [8.70083e-08, 'greeting'], [4.5416787e-08, 'thanks']]\n",
            "What is your yearly income (in USD)110000\n",
            "What is your net worth (in USD)150000\n",
            "What is your investment goal (in USD)100000\n",
            "What is your principal amount (in USD)250000\n",
            "Based on your responses, it seems like you are a conservative investor.\n",
            "None\n"
          ]
        }
      ]
    },
    {
      "cell_type": "code",
      "metadata": {
        "id": "JbQVlyyxxHsi"
      },
      "source": [
        ""
      ],
      "id": "JbQVlyyxxHsi",
      "execution_count": null,
      "outputs": []
    },
    {
      "cell_type": "code",
      "metadata": {
        "id": "oROg17IPxHu0"
      },
      "source": [
        ""
      ],
      "id": "oROg17IPxHu0",
      "execution_count": null,
      "outputs": []
    }
  ]
}