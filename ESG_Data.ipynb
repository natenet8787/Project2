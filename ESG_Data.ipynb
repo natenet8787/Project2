{
 "cells": [
  {
   "cell_type": "code",
   "execution_count": 6,
   "metadata": {},
   "outputs": [],
   "source": [
    "import yfinance as yf\n",
    "import pandas as pd\n",
    "import os"
   ]
  },
  {
   "cell_type": "code",
   "execution_count": 8,
   "metadata": {},
   "outputs": [],
   "source": [
    "# Cola ticker to initialize and shape dataframe, I couldn't get this to run without this block of code\n",
    "\n",
    "cola = \"KO\"\n",
    "cola_y = yf.Ticker(cola)\n",
    "esg_data = pd.DataFrame.transpose(cola_y.sustainability)\n",
    "esg_data['company_ticker'] = str(cola_y.ticker)"
   ]
  },
  {
   "cell_type": "code",
   "execution_count": 9,
   "metadata": {},
   "outputs": [],
   "source": [
    "# CSV file containing S&P 500 Company Names and Tickers\n",
    "\n",
    "s_and_p = pd.read_csv('sandp500.csv') \n",
    "\n",
    "# Retrieve Yahoo! Finance ESG Variables and Scores for each S&P 500 ticker\n",
    "\n",
    "for i in s_and_p['Ticker']:\n",
    "    i_y = yf.Ticker(i)\n",
    "    try:\n",
    "        if i_y.sustainability is not None:\n",
    "            temp = pd.DataFrame.transpose(i_y.sustainability)\n",
    "            temp['company_ticker'] = str(i_y.ticker)\n",
    "            esg_data = esg_data.append(temp)\n",
    "    except IndexError:\n",
    "        pass\n",
    "\n",
    "# Save data retrieved to a CSV file\n",
    "\n",
    "esg_data.to_csv(\"s_and_p_ESG_scores.csv\")\n"
   ]
  }
 ],
 "metadata": {
  "kernelspec": {
   "display_name": "Python 3",
   "language": "python",
   "name": "python3"
  },
  "language_info": {
   "codemirror_mode": {
    "name": "ipython",
    "version": 3
   },
   "file_extension": ".py",
   "mimetype": "text/x-python",
   "name": "python",
   "nbconvert_exporter": "python",
   "pygments_lexer": "ipython3",
   "version": "3.8.3"
  }
 },
 "nbformat": 4,
 "nbformat_minor": 4
}
